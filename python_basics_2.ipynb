{
  "nbformat": 4,
  "nbformat_minor": 0,
  "metadata": {
    "colab": {
      "provenance": [],
      "toc_visible": true
    },
    "kernelspec": {
      "name": "python3",
      "display_name": "Python 3"
    },
    "language_info": {
      "name": "python"
    }
  },
  "cells": [
    {
      "cell_type": "markdown",
      "source": [
        "### 1.What are the two values of the Boolean data type? How do you write them?\n",
        "##### Answer.\n",
        "1. True\n",
        "2. False\n",
        "\n",
        "we can write them as:"
      ],
      "metadata": {
        "id": "MjQ0oIz8RDDk"
      }
    },
    {
      "cell_type": "code",
      "execution_count": null,
      "metadata": {
        "colab": {
          "base_uri": "https://localhost:8080/"
        },
        "id": "sSkLQyTwQ12P",
        "outputId": "6f245c6b-4326-4d8c-d893-0ebde116a636"
      },
      "outputs": [
        {
          "output_type": "stream",
          "name": "stdout",
          "text": [
            "True False\n",
            "<class 'bool'> <class 'bool'>\n"
          ]
        }
      ],
      "source": [
        "a = True\n",
        "b = False\n",
        "\n",
        "print(a,b)\n",
        "print(type(a),type(b))"
      ]
    },
    {
      "cell_type": "markdown",
      "source": [
        "### 2.What are the three different types of Boolean operators?\n",
        "##### Answer: \n",
        "1. and\n",
        "2. or\n",
        "3. not"
      ],
      "metadata": {
        "id": "-pqpDH0AR2WJ"
      }
    },
    {
      "cell_type": "markdown",
      "source": [
        "### 3.Make a list of each Boolean operator's truth tables (i.e. every possible combination of Boolean values for the operator and what it evaluate ).\n",
        "#### Answer: \n",
        "#### 1. and operator truth table.\n",
        "True and True is True\n",
        "\n",
        "True and False is False\n",
        "\n",
        "False and True is False\n",
        "\n",
        "False and False is False\n",
        "#### 2. or operator truth table.\n",
        "True or True is True\n",
        "\n",
        "True or False is True\n",
        "\n",
        "False or True is True\n",
        "\n",
        "False or False is False\n",
        "#### 3. not operator truth table.\n",
        "not True is False.\n",
        "\n",
        "not False is True."
      ],
      "metadata": {
        "id": "anFqPek4R7D4"
      }
    },
    {
      "cell_type": "markdown",
      "source": [
        "### 4.What are the values of the following expressions?\n",
        "* (5 > 4) and (3 == 5)\n",
        "* not (5 > 4)\n",
        "* (5 > 4) or (3 == 5)\n",
        "* not ((5 > 4) or (3 == 5))\n",
        "* (True and True) and (True == False)\n",
        "* (not False) or (not True)\n",
        "\n",
        "#### Answer:\n"
      ],
      "metadata": {
        "id": "cqj9BoZjSagK"
      }
    },
    {
      "cell_type": "code",
      "source": [
        "print((5 > 4) and (3 == 5))\n",
        "\n",
        "print(not (5 > 4))\n",
        "\n",
        "print((5 > 4) or (3 == 5))\n",
        "\n",
        "print(not ((5 > 4) or (3 == 5)))\n",
        "\n",
        "print((True and True) and (True == False))\n",
        "\n",
        "print((not False) or (not True))\n"
      ],
      "metadata": {
        "colab": {
          "base_uri": "https://localhost:8080/"
        },
        "id": "tGZrCLAmRw-Y",
        "outputId": "737fddb3-6912-4197-9c6b-7244c9841510"
      },
      "execution_count": null,
      "outputs": [
        {
          "output_type": "stream",
          "name": "stdout",
          "text": [
            "False\n",
            "False\n",
            "True\n",
            "False\n",
            "False\n",
            "True\n"
          ]
        }
      ]
    },
    {
      "cell_type": "markdown",
      "source": [
        "### 5.What are the six comparison operators?\n",
        "### Answer:\n",
        "\n",
        "1. == (equal to)\n",
        "2. != (not equal to)\n",
        "3. *>* (greater than)\n",
        "4. < (less than)\n",
        "5. *>*= (greater than or equal to)\n",
        "6. <= (less than or equal to)\n",
        "\n",
        "\n",
        "\n",
        "\n"
      ],
      "metadata": {
        "id": "poyPBaI7XJrw"
      }
    },
    {
      "cell_type": "markdown",
      "source": [
        "### 6.How do you tell the difference between the equal to and assignment operators?Describe a condition and when you would use one.\n",
        "#### Answer:\n",
        "The equal to operator (==) is used for comparing the values of two operands, while the assignment operator (=) is used for assigning a value to a variable.we would use the equal to operator in situations where we want to compare the values of two variables or expressions and determine if they are equal, such as in control flow statements like if or while or in making logical decisions.\n",
        "\n",
        "we will use the assignment operator to assign a value to a variable, such as when you are initializing a variable or updating its value.\n"
      ],
      "metadata": {
        "id": "fJkoq7_qcx10"
      }
    },
    {
      "cell_type": "code",
      "source": [
        "## example of == operator\n",
        "x = int(input())   \n",
        "if x == 5:      ## here we are camparing x \n",
        "    print(\"x is equal to 5\")\n",
        "else:\n",
        "    print(\"x is not equals to 5\")"
      ],
      "metadata": {
        "colab": {
          "base_uri": "https://localhost:8080/"
        },
        "id": "kfuFHShWYKvU",
        "outputId": "7e6774f8-6f64-47dd-cdd8-052fe5cc076c"
      },
      "execution_count": null,
      "outputs": [
        {
          "output_type": "stream",
          "name": "stdout",
          "text": [
            "5\n",
            "x is equal to 5\n"
          ]
        }
      ]
    },
    {
      "cell_type": "code",
      "source": [
        "## example of = operator\n",
        "x = 5    ## here we assign x a vaalue.\n",
        "print(x)"
      ],
      "metadata": {
        "colab": {
          "base_uri": "https://localhost:8080/"
        },
        "id": "Al7RhMzih-NW",
        "outputId": "79914f2a-96a1-45e7-f58a-3fc936a8ce06"
      },
      "execution_count": null,
      "outputs": [
        {
          "output_type": "stream",
          "name": "stdout",
          "text": [
            "5\n"
          ]
        }
      ]
    },
    {
      "cell_type": "markdown",
      "source": [
        "### 7.Identify the three blocks in this code:\n",
        "spam = 0\n",
        "\n",
        "if spam == 10:\n",
        "\n",
        "print(\"eggs\")\n",
        "\n",
        "if spam >\n",
        "\n",
        "print(\"bacon\")\n",
        "\n",
        "else:\n",
        "\n",
        "\n",
        "print(\"ham\")\n",
        "\n",
        "print(\"spam\")\n",
        "\n",
        "print(\"spam\")\n",
        "\n",
        "#### Answer:"
      ],
      "metadata": {
        "id": "cCrQYZwKxrra"
      }
    },
    {
      "cell_type": "code",
      "source": [
        "spam = 0\n",
        "if spam == 10:\n",
        "  print(\"eggs\") #Block 1\n",
        "if spam > 5:\n",
        "  print(\"bacon\") #Block 2\n",
        "else:\n",
        "  print(\"ham\") #Block 3\n",
        "  print(\"spam\")\n",
        "  print(\"spam\")"
      ],
      "metadata": {
        "colab": {
          "base_uri": "https://localhost:8080/"
        },
        "id": "eSjgVKjkjp3D",
        "outputId": "39c1b7c2-30e0-4907-cc23-7a6bc36bf3df"
      },
      "execution_count": 23,
      "outputs": [
        {
          "output_type": "stream",
          "name": "stdout",
          "text": [
            "ham\n",
            "spam\n",
            "spam\n"
          ]
        }
      ]
    },
    {
      "cell_type": "markdown",
      "source": [
        "### 8.Write code that prints Hello if 1 is stored in spam, prints Howdy if 2 is stored in spam, and prints Greetings! if anything else is stored in spam.\n",
        "### Answer:"
      ],
      "metadata": {
        "id": "iO-Y870v4z1L"
      }
    },
    {
      "cell_type": "code",
      "source": [
        "spam = int(input(\"Enter a number \"))\n",
        "if spam == 1:\n",
        "  print(\"Hello\")\n",
        "elif spam == 2:\n",
        "  print(\"Howdy\")\n",
        "else:\n",
        "  print(\"Greetings!\")"
      ],
      "metadata": {
        "colab": {
          "base_uri": "https://localhost:8080/"
        },
        "id": "EE170rV19h-f",
        "outputId": "29c38a75-0e2a-4a4e-ee1d-9856621929bc"
      },
      "execution_count": null,
      "outputs": [
        {
          "output_type": "stream",
          "name": "stdout",
          "text": [
            "Enter a number 1\n",
            "Hello\n"
          ]
        }
      ]
    },
    {
      "cell_type": "markdown",
      "source": [
        "### 9.If your programme is stuck in an endless loop, what keys you’ll press?\n",
        "### Answer:  `ctrl + c`"
      ],
      "metadata": {
        "id": "BGi_kFLAaTCB"
      }
    },
    {
      "cell_type": "markdown",
      "source": [
        "### 10.How can you tell the difference between break and continue?\n",
        "### Answer: \n",
        "**Break**:A break statement in Python alters the flow of a loop by terminating it once a specified condition is met.\n",
        "\n",
        "**Continue**: The continue statement in Python is used to skip the remaining code inside a loop for the current iteration only"
      ],
      "metadata": {
        "id": "pTTAaCRmbWAX"
      }
    },
    {
      "cell_type": "markdown",
      "source": [
        "### 11.In a for loop, what is the difference between range(10), range(0, 10), and range(0, 10, 1)?\n",
        "### Answer: \n",
        "* **range(10):** generates a sequence of numbers from 0 up to 10. It's equivalent to range(0, 10).\n",
        "\n",
        "* **range(0, 10)**: generates a sequence of numbers from 0 up to 10. This is the most common form of the range() function.\n",
        "\n",
        "* **range(0, 10, 1)**: generates a sequence of numbers from 0 up to 10, incrementing by 1 in each iteration. The third argument specifies the step size. In this case, the step size is 1."
      ],
      "metadata": {
        "id": "bp6YRTCXc1ci"
      }
    },
    {
      "cell_type": "code",
      "source": [
        "i = 0\n",
        "for i in range(10):\n",
        "    print(i)"
      ],
      "metadata": {
        "colab": {
          "base_uri": "https://localhost:8080/"
        },
        "id": "AWvySGDQyTVt",
        "outputId": "3661c3b1-1cf3-4391-8469-d9d088f326c3"
      },
      "execution_count": 16,
      "outputs": [
        {
          "output_type": "stream",
          "name": "stdout",
          "text": [
            "0\n",
            "1\n",
            "2\n",
            "3\n",
            "4\n",
            "5\n",
            "6\n",
            "7\n",
            "8\n",
            "9\n"
          ]
        }
      ]
    },
    {
      "cell_type": "code",
      "source": [
        "i = 0\n",
        "for i in range(0,10):\n",
        "    print(i)\n",
        "    \n"
      ],
      "metadata": {
        "colab": {
          "base_uri": "https://localhost:8080/"
        },
        "id": "OVuICSDVyZu4",
        "outputId": "3ada87a9-1cea-4f33-9c46-20c37d231dd1"
      },
      "execution_count": 19,
      "outputs": [
        {
          "output_type": "stream",
          "name": "stdout",
          "text": [
            "0\n",
            "1\n",
            "2\n",
            "3\n",
            "4\n",
            "5\n",
            "6\n",
            "7\n",
            "8\n",
            "9\n"
          ]
        }
      ]
    },
    {
      "cell_type": "code",
      "source": [
        "i = 0\n",
        "for i in range(0, 10, 1):\n",
        "    print(i)"
      ],
      "metadata": {
        "colab": {
          "base_uri": "https://localhost:8080/"
        },
        "id": "bmnV9L2Kyd8v",
        "outputId": "76d0ca90-aeb6-4847-fe2b-fe45f4efe344"
      },
      "execution_count": 18,
      "outputs": [
        {
          "output_type": "stream",
          "name": "stdout",
          "text": [
            "0\n",
            "2\n",
            "4\n",
            "6\n",
            "8\n"
          ]
        }
      ]
    },
    {
      "cell_type": "markdown",
      "source": [
        "### 12.Write a short program that prints the numbers 1 to 10 using a for loop. Then write an equivalent program that prints the numbers 1 to 10 using a while loop.\n",
        "### Answer:\n",
        "\n"
      ],
      "metadata": {
        "id": "oobh5sOHd2m6"
      }
    },
    {
      "cell_type": "markdown",
      "source": [
        "###for loop"
      ],
      "metadata": {
        "id": "HIrL9t2jztJq"
      }
    },
    {
      "cell_type": "code",
      "source": [
        "i = 0\n",
        "for i in range(1,11):\n",
        "    print(i)\n"
      ],
      "metadata": {
        "id": "MloMyl9eC5JV",
        "colab": {
          "base_uri": "https://localhost:8080/"
        },
        "outputId": "d8601fb4-2249-466b-c118-9445da478775"
      },
      "execution_count": 3,
      "outputs": [
        {
          "output_type": "stream",
          "name": "stdout",
          "text": [
            "1\n",
            "2\n",
            "3\n",
            "4\n",
            "5\n",
            "6\n",
            "7\n",
            "8\n",
            "9\n",
            "10\n"
          ]
        }
      ]
    },
    {
      "cell_type": "markdown",
      "source": [
        "###while loop"
      ],
      "metadata": {
        "id": "EkxlG_3etuK7"
      }
    },
    {
      "cell_type": "code",
      "source": [
        "x = 10\n",
        "i = 1\n",
        "while i <= x:\n",
        "    print(i)\n",
        "    i = i + 1"
      ],
      "metadata": {
        "colab": {
          "base_uri": "https://localhost:8080/"
        },
        "id": "aWEMjEvGtwfg",
        "outputId": "494f3dab-7c8a-456e-f8d1-06722fdcffce"
      },
      "execution_count": 15,
      "outputs": [
        {
          "output_type": "stream",
          "name": "stdout",
          "text": [
            "1\n",
            "2\n",
            "3\n",
            "4\n",
            "5\n",
            "6\n",
            "7\n",
            "8\n",
            "9\n",
            "10\n"
          ]
        }
      ]
    },
    {
      "cell_type": "markdown",
      "source": [
        "### 13.If you had a function named bacon() inside a module named spam, how would you call it after importing spam?\n",
        "### Answer:              \n",
        "    spam.bacon()\n"
      ],
      "metadata": {
        "id": "hsz8u6_4zTzE"
      }
    }
  ]
}